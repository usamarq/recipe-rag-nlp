{
 "cells": [
  {
   "cell_type": "code",
   "execution_count": 2,
   "id": "ac58dde7",
   "metadata": {},
   "outputs": [
    {
     "name": "stdout",
     "output_type": "stream",
     "text": [
      "Directory 'dataset' not found. Creating it.\n",
      "File 'hummus_recipes.csv' not found. Starting download...\n"
     ]
    },
    {
     "name": "stderr",
     "output_type": "stream",
     "text": [
      "Downloading...\n",
      "From (original): https://drive.google.com/uc?id=1vBE48dpWDXARqMRxtzdqwJw1wVkSa8yz\n",
      "From (redirected): https://drive.google.com/uc?id=1vBE48dpWDXARqMRxtzdqwJw1wVkSa8yz&confirm=t&uuid=63dfebd9-1ccf-4ce5-aeec-237ecae01fee\n",
      "To: d:\\Oulu MSc\\Autumn 2025\\Natural Language Processing and Text Mining\\Project\\recipe-rag-nlp\\dataset\\hummus_recipes.csv\n",
      "100%|██████████| 1.14G/1.14G [01:53<00:00, 10.0MB/s]"
     ]
    },
    {
     "name": "stdout",
     "output_type": "stream",
     "text": [
      "✅ Download complete! File saved to 'dataset\\hummus_recipes.csv'\n"
     ]
    },
    {
     "name": "stderr",
     "output_type": "stream",
     "text": [
      "\n"
     ]
    }
   ],
   "source": [
    "import os\n",
    "import gdown\n",
    "\n",
    "# --- Configuration ---\n",
    "# The Google Drive link to your file\n",
    "url = 'https://drive.google.com/uc?id=1vBE48dpWDXARqMRxtzdqwJw1wVkSa8yz'\n",
    "\n",
    "# Define the folder and filename for the output\n",
    "output_folder = 'dataset'\n",
    "file_name = 'hummus_recipes.csv'\n",
    "destination_path = os.path.join(output_folder, file_name)\n",
    "\n",
    "# 1. Check if the output folder exists, create it if it doesn't\n",
    "if not os.path.exists(output_folder):\n",
    "    print(f\"Directory '{output_folder}' not found. Creating it.\")\n",
    "    os.makedirs(output_folder)\n",
    "else:\n",
    "    print(f\"Directory '{output_folder}' already exists.\")\n",
    "\n",
    "# 2. Check if the file already exists, download it if it doesn't\n",
    "if not os.path.exists(destination_path):\n",
    "    print(f\"File '{file_name}' not found. Starting download...\")\n",
    "    # Use gdown to download the file from the URL to the destination path\n",
    "    gdown.download(url, destination_path, quiet=False)\n",
    "    print(f\"✅ Download complete! File saved to '{destination_path}'\")\n",
    "else:\n",
    "    print(f\"File '{file_name}' already exists in '{output_folder}'. Skipping download.\")"
   ]
  }
 ],
 "metadata": {
  "kernelspec": {
   "display_name": "nlp310",
   "language": "python",
   "name": "python3"
  },
  "language_info": {
   "codemirror_mode": {
    "name": "ipython",
    "version": 3
   },
   "file_extension": ".py",
   "mimetype": "text/x-python",
   "name": "python",
   "nbconvert_exporter": "python",
   "pygments_lexer": "ipython3",
   "version": "3.10.18"
  }
 },
 "nbformat": 4,
 "nbformat_minor": 5
}
